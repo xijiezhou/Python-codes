{
 "cells": [
  {
   "cell_type": "markdown",
   "metadata": {},
   "source": [
    "# Empirical Method in Financial Econometrics: Project 8"
   ]
  },
  {
   "cell_type": "markdown",
   "metadata": {},
   "source": [
    "## Name: Xijie Zhou"
   ]
  },
  {
   "cell_type": "markdown",
   "metadata": {},
   "source": [
    "## Exercise 1"
   ]
  },
  {
   "cell_type": "markdown",
   "metadata": {},
   "source": [
    "### A"
   ]
  },
  {
   "cell_type": "code",
   "execution_count": 86,
   "metadata": {},
   "outputs": [],
   "source": [
    "prices = [142.19,142.27,142.29,142.62,142.70,142.64,142.61,142.62,142.63,142.67,142.62,142.50,142.45,142.57,142.54,142.32,142.17,142.03,141.85,141.30,141.36,141.01,140.78,140.96,141.16,141.38]"
   ]
  },
  {
   "cell_type": "code",
   "execution_count": 87,
   "metadata": {},
   "outputs": [],
   "source": [
    "len_prices = len(prices)"
   ]
  },
  {
   "cell_type": "code",
   "execution_count": 88,
   "metadata": {},
   "outputs": [
    {
     "name": "stdout",
     "output_type": "stream",
     "text": [
      "26\n"
     ]
    }
   ],
   "source": [
    "print(len_prices)"
   ]
  },
  {
   "cell_type": "code",
   "execution_count": 89,
   "metadata": {},
   "outputs": [],
   "source": [
    "freq_prices = (5*78/len_prices)"
   ]
  },
  {
   "cell_type": "code",
   "execution_count": 90,
   "metadata": {
    "scrolled": true
   },
   "outputs": [
    {
     "name": "stdout",
     "output_type": "stream",
     "text": [
      "15.0\n"
     ]
    }
   ],
   "source": [
    "print(freq_prices)"
   ]
  },
  {
   "cell_type": "markdown",
   "metadata": {},
   "source": [
    "The sampling frequency of the prices above is every 15-minutes 1 observation."
   ]
  },
  {
   "cell_type": "markdown",
   "metadata": {},
   "source": [
    "### B"
   ]
  },
  {
   "cell_type": "code",
   "execution_count": 200,
   "metadata": {},
   "outputs": [],
   "source": [
    "import math\n",
    "log_returns = []\n",
    "for i in range(1,len(prices)):\n",
    "    log_returns.append(math.log(prices[i]) - math.log(prices[i-1]))"
   ]
  },
  {
   "cell_type": "markdown",
   "metadata": {},
   "source": [
    "### C"
   ]
  },
  {
   "cell_type": "code",
   "execution_count": 92,
   "metadata": {},
   "outputs": [
    {
     "name": "stdout",
     "output_type": "stream",
     "text": [
      "-0.00022851562661898583\n"
     ]
    }
   ],
   "source": [
    "import statistics as stat\n",
    "average_return = stat.mean(log_returns)\n",
    "print(average_return)"
   ]
  },
  {
   "cell_type": "code",
   "execution_count": 93,
   "metadata": {},
   "outputs": [
    {
     "name": "stdout",
     "output_type": "stream",
     "text": [
      "0.0013378543298329293\n"
     ]
    }
   ],
   "source": [
    "standard_deviation = stat.stdev(log_returns)\n",
    "print(standard_deviation)"
   ]
  },
  {
   "cell_type": "markdown",
   "metadata": {},
   "source": [
    "The average return is about -0.0002285; and the standard deviation of the returns is 0.0013379."
   ]
  },
  {
   "cell_type": "markdown",
   "metadata": {},
   "source": [
    "### D"
   ]
  },
  {
   "cell_type": "code",
   "execution_count": 94,
   "metadata": {},
   "outputs": [],
   "source": [
    "def realized_variance(log_returns):\n",
    "    rv = 0\n",
    "    for r in log_returns:\n",
    "        rv += r**2\n",
    "    return rv"
   ]
  },
  {
   "cell_type": "code",
   "execution_count": 95,
   "metadata": {},
   "outputs": [
    {
     "name": "stdout",
     "output_type": "stream",
     "text": [
      "4.426198577869189e-05\n",
      "10.561259591653997\n"
     ]
    }
   ],
   "source": [
    "RV = realized_variance(log_returns)\n",
    "annulized_RV = 100*math.sqrt(252*RV)\n",
    "print(RV)\n",
    "print(annulized_RV)"
   ]
  },
  {
   "cell_type": "markdown",
   "metadata": {},
   "source": [
    "The annulized value is 10.56125959%."
   ]
  },
  {
   "cell_type": "markdown",
   "metadata": {},
   "source": [
    "### E"
   ]
  },
  {
   "cell_type": "code",
   "execution_count": 96,
   "metadata": {},
   "outputs": [
    {
     "name": "stdout",
     "output_type": "stream",
     "text": [
      "False\n"
     ]
    }
   ],
   "source": [
    "print(0.1 + 0.2 == 0.3)"
   ]
  },
  {
   "cell_type": "code",
   "execution_count": 97,
   "metadata": {},
   "outputs": [
    {
     "name": "stdout",
     "output_type": "stream",
     "text": [
      "False\n"
     ]
    }
   ],
   "source": [
    "print(sum([0.1,0.2]) == 0.3)"
   ]
  },
  {
   "cell_type": "code",
   "execution_count": 98,
   "metadata": {},
   "outputs": [
    {
     "name": "stdout",
     "output_type": "stream",
     "text": [
      "0.30000000000000004\n"
     ]
    }
   ],
   "source": [
    "print(0.1 + 0.2)"
   ]
  },
  {
   "cell_type": "code",
   "execution_count": 99,
   "metadata": {},
   "outputs": [
    {
     "name": "stdout",
     "output_type": "stream",
     "text": [
      "0.30000000000000004\n"
     ]
    }
   ],
   "source": [
    "print(sum([0.1,0.2]))"
   ]
  },
  {
   "cell_type": "markdown",
   "metadata": {},
   "source": [
    "Because as we can see, the original equations are wrong, like 0.1+0.2 is not exactly equal to 3. This situation can be find in other programming tools like C, C++, Java and so on。The reason is that binary can't accurately describe decimal fractions, so there is an error in the operation of float. I think this issue could not affect the computation of the realized variance, because the space for float is enough."
   ]
  },
  {
   "cell_type": "markdown",
   "metadata": {},
   "source": [
    "### F"
   ]
  },
  {
   "cell_type": "markdown",
   "metadata": {},
   "source": [
    "   sum function: Return the sum of a 'start' value (default: 0) plus an iterable of numbers. When the iterable is empty, return the start value. This function is intended specifically for use with numeric values and may reject non-numeric types."
   ]
  },
  {
   "cell_type": "markdown",
   "metadata": {},
   "source": [
    " fsum function: Return an accurate floating point sum of values in the iterable seq. Assumes IEEE-754 floating point arithmetic."
   ]
  },
  {
   "cell_type": "code",
   "execution_count": 100,
   "metadata": {},
   "outputs": [
    {
     "name": "stdout",
     "output_type": "stream",
     "text": [
      "10.561259591653997\n"
     ]
    }
   ],
   "source": [
    "r = []\n",
    "for i in range(0,len(log_returns)):\n",
    "    r.append(log_returns[i]**2)\n",
    "    RV = math.fsum(r)\n",
    "annulized_RV = 100*math.sqrt(252*RV)\n",
    "print(annulized_RV)"
   ]
  },
  {
   "cell_type": "markdown",
   "metadata": {},
   "source": [
    "Compared to the two results, I think they are same."
   ]
  },
  {
   "cell_type": "markdown",
   "metadata": {},
   "source": [
    "### G"
   ]
  },
  {
   "cell_type": "code",
   "execution_count": 101,
   "metadata": {},
   "outputs": [
    {
     "name": "stdout",
     "output_type": "stream",
     "text": [
      "9.997816709510156\n"
     ]
    }
   ],
   "source": [
    "b = []\n",
    "for i in range(1,len(log_returns)):\n",
    "    b.append(abs(log_returns[i])*abs(log_returns[i-1]))\n",
    "    BV = math.fsum(b) * math.pi/2\n",
    "annulized_BV = 100*math.sqrt(252*BV)\n",
    "print(annulized_BV)"
   ]
  },
  {
   "cell_type": "markdown",
   "metadata": {},
   "source": [
    "The annulized value is 9.9978167%."
   ]
  },
  {
   "cell_type": "markdown",
   "metadata": {},
   "source": [
    "## Excercise 2 - DIS"
   ]
  },
  {
   "cell_type": "markdown",
   "metadata": {},
   "source": [
    "### A"
   ]
  },
  {
   "cell_type": "code",
   "execution_count": 167,
   "metadata": {},
   "outputs": [],
   "source": [
    "import os\n",
    "os.getcwd()\n",
    "os.chdir(\"/Users/zhouxijie/python/project_8/data/\")"
   ]
  },
  {
   "cell_type": "code",
   "execution_count": 168,
   "metadata": {},
   "outputs": [],
   "source": [
    "import csv\n",
    "with open(\"DIS.csv\",\"r\") as  data:\n",
    "    content = data.read()"
   ]
  },
  {
   "cell_type": "code",
   "execution_count": 169,
   "metadata": {},
   "outputs": [],
   "source": [
    "data_lines = content.split(\"\\n\")"
   ]
  },
  {
   "cell_type": "code",
   "execution_count": 170,
   "metadata": {},
   "outputs": [],
   "source": [
    "dates, times, prices = [], [], []\n",
    "for line in data_lines:\n",
    "    if line:\n",
    "        date, time, price = line.split(',')\n",
    "        dates.append(int(date))\n",
    "        times.append(int(time))\n",
    "        prices.append(float(price))"
   ]
  },
  {
   "cell_type": "markdown",
   "metadata": {},
   "source": [
    "### B"
   ]
  },
  {
   "cell_type": "code",
   "execution_count": 171,
   "metadata": {},
   "outputs": [
    {
     "name": "stdout",
     "output_type": "stream",
     "text": [
      "78\n",
      "2769\n"
     ]
    }
   ],
   "source": [
    "N = dates.count(dates[0])\n",
    "T = len(dates)//dates.count(dates[0])\n",
    "print(N)\n",
    "print(T)"
   ]
  },
  {
   "cell_type": "markdown",
   "metadata": {},
   "source": [
    "There are 78 observations available each day and 2769 days available in the sample."
   ]
  },
  {
   "cell_type": "markdown",
   "metadata": {},
   "source": [
    "### C"
   ]
  },
  {
   "cell_type": "code",
   "execution_count": 172,
   "metadata": {},
   "outputs": [],
   "source": [
    "new_list = [prices[i:i+N] for i in range(0, len(prices), N)]"
   ]
  },
  {
   "cell_type": "markdown",
   "metadata": {},
   "source": [
    "### D"
   ]
  },
  {
   "cell_type": "code",
   "execution_count": 173,
   "metadata": {},
   "outputs": [],
   "source": [
    "log_prices = [math.log(price) for price in prices]\n",
    "log_list = [log_prices[i:i+N] for i in range(0, len(log_prices), N)]\n",
    "log_returns = []\n",
    "for i in range(len(log_list)):\n",
    "    log_returns.append([log_list[i][j+1] - log_list[i][j] for j in range(len(log_list[0])-1)])"
   ]
  },
  {
   "cell_type": "markdown",
   "metadata": {},
   "source": [
    "### E"
   ]
  },
  {
   "cell_type": "code",
   "execution_count": 199,
   "metadata": {},
   "outputs": [],
   "source": [
    "RV_new = [realized_variance(rlist) for rlist in log_returns]"
   ]
  },
  {
   "cell_type": "markdown",
   "metadata": {},
   "source": [
    "### F"
   ]
  },
  {
   "cell_type": "code",
   "execution_count": 175,
   "metadata": {},
   "outputs": [
    {
     "name": "stdout",
     "output_type": "stream",
     "text": [
      "21.778821985923436\n"
     ]
    }
   ],
   "source": [
    "average_rv = stat.mean(RV_new)\n",
    "annulized_av_rv = 100*math.sqrt(252*average_rv)\n",
    "print(annulized_av_rv)"
   ]
  },
  {
   "cell_type": "code",
   "execution_count": 176,
   "metadata": {},
   "outputs": [
    {
     "name": "stdout",
     "output_type": "stream",
     "text": [
      "15.019035530425818\n"
     ]
    }
   ],
   "source": [
    "median_rv = stat.median(RV_new)\n",
    "annulized_md_rv = 100*math.sqrt(252*median_rv)\n",
    "print(annulized_md_rv)"
   ]
  },
  {
   "cell_type": "markdown",
   "metadata": {},
   "source": [
    "The average of the realized variance is 21.78%; the median of the realized variance is 15.02%."
   ]
  },
  {
   "cell_type": "markdown",
   "metadata": {},
   "source": [
    "## Exercise 3 - DIS"
   ]
  },
  {
   "cell_type": "markdown",
   "metadata": {},
   "source": [
    "### A"
   ]
  },
  {
   "cell_type": "code",
   "execution_count": 177,
   "metadata": {},
   "outputs": [],
   "source": [
    "import matplotlib.pyplot as plt"
   ]
  },
  {
   "cell_type": "code",
   "execution_count": 178,
   "metadata": {},
   "outputs": [
    {
     "data": {
      "text/plain": [
       "Text(0.5, 1.0, 'The realized variance for all days')"
      ]
     },
     "execution_count": 178,
     "metadata": {},
     "output_type": "execute_result"
    },
    {
     "data": {
      "image/png": "[encoded data removed]",
      "text/plain": [
       "<Figure size 432x288 with 1 Axes>"
      ]
     },
     "metadata": {
      "needs_background": "light"
     },
     "output_type": "display_data"
    }
   ],
   "source": [
    "plt.plot([math.sqrt(rv*252)*100 for rv in RV_new])\n",
    "plt.xlabel('day')\n",
    "plt.ylabel('realized variance')\n",
    "plt.title('The realized variance for all days')"
   ]
  },
  {
   "cell_type": "markdown",
   "metadata": {},
   "source": [
    "### B"
   ]
  },
  {
   "cell_type": "code",
   "execution_count": 179,
   "metadata": {},
   "outputs": [
    {
     "data": {
      "image/png": "[encoded data removed]",
      "text/plain": [
       "<Figure size 432x288 with 1 Axes>"
      ]
     },
     "metadata": {},
     "output_type": "display_data"
    }
   ],
   "source": [
    "with plt.style.context(\"ggplot\"):\n",
    "    plt.plot([math.sqrt(rv*252)*100 for rv in RV_new])\n",
    "    plt.xlabel('day')\n",
    "    plt.ylabel('realized variance')\n",
    "    plt.title('The realized variance for all days')"
   ]
  },
  {
   "cell_type": "markdown",
   "metadata": {},
   "source": [
    "### C"
   ]
  },
  {
   "cell_type": "code",
   "execution_count": 180,
   "metadata": {},
   "outputs": [
    {
     "name": "stdout",
     "output_type": "stream",
     "text": [
      "2017-11-20 00:00:00\n",
      "2017-11-20 09:27:00\n"
     ]
    }
   ],
   "source": [
    "from datetime import datetime\n",
    "print(datetime(2017, 11, 20))\n",
    "print(datetime.strptime('20171120 0927', '%Y%m%d %H%M'))"
   ]
  },
  {
   "cell_type": "markdown",
   "metadata": {},
   "source": [
    "When using the method strptime, the format for %H is from 01 to 12, so we need to type '09' other than '9' for python to recognize this format. %Y means year, %m means month, %d means day, %M means minute."
   ]
  },
  {
   "cell_type": "markdown",
   "metadata": {},
   "source": [
    "### D"
   ]
  },
  {
   "cell_type": "code",
   "execution_count": 181,
   "metadata": {},
   "outputs": [
    {
     "name": "stdout",
     "output_type": "stream",
     "text": [
      "['20070103 0935']\n"
     ]
    }
   ],
   "source": [
    "zipped = list(zip(dates, times))\n",
    "dt = []\n",
    "for time in zipped:\n",
    "    if time[1]//1000 < 1:\n",
    "        dt.append([str(time[0]) + \" \" + '0' + str(time[1])])\n",
    "    else:\n",
    "        dt.append([str(time[0]) + ' ' + str(time[1])])\n",
    "print(dt[0])"
   ]
  },
  {
   "cell_type": "markdown",
   "metadata": {},
   "source": [
    "### E"
   ]
  },
  {
   "cell_type": "code",
   "execution_count": 182,
   "metadata": {},
   "outputs": [],
   "source": [
    "format_dt = [datetime.strptime(str(dt[0]), '%Y%m%d %H%M') for dt in dt]"
   ]
  },
  {
   "cell_type": "code",
   "execution_count": 183,
   "metadata": {},
   "outputs": [],
   "source": [
    "dts = []\n",
    "for t in range(0,len(dt)):\n",
    "    subdt = []\n",
    "    for i in range(0,len(dt[t])):\n",
    "        time = datetime.strptime(dt[t][i],'%Y%m%d %H%M')\n",
    "        subdt.append(time)\n",
    "    dts.append(subdt)"
   ]
  },
  {
   "cell_type": "markdown",
   "metadata": {},
   "source": [
    "### F"
   ]
  },
  {
   "cell_type": "code",
   "execution_count": 184,
   "metadata": {},
   "outputs": [
    {
     "data": {
      "image/png": "[encoded data removed]",
      "text/plain": [
       "<Figure size 432x288 with 1 Axes>"
      ]
     },
     "metadata": {},
     "output_type": "display_data"
    }
   ],
   "source": [
    "with plt.style.context(\"ggplot\"):\n",
    "    dtx = [datetime.strptime(str(dates[i]), '%Y%m%d') for i in range(0, len(dates), N)]\n",
    "    plt.plot(dtx, [math.sqrt(rv*252)*100 for rv in RV_new])\n",
    "    plt.xlabel('year')\n",
    "    plt.ylabel('realized variance')\n",
    "    plt.title('The realized variance for all days')"
   ]
  },
  {
   "cell_type": "markdown",
   "metadata": {},
   "source": [
    "### G"
   ]
  },
  {
   "cell_type": "code",
   "execution_count": 185,
   "metadata": {},
   "outputs": [
    {
     "data": {
      "image/png": "[encoded data removed]",
      "text/plain": [
       "<Figure size 432x288 with 1 Axes>"
      ]
     },
     "metadata": {},
     "output_type": "display_data"
    }
   ],
   "source": [
    "with plt.style.context(\"ggplot\"):\n",
    "    dtx = [datetime.strptime(str(dates[i]), '%Y%m%d') for i in range(0, len(dates), N)]\n",
    "    plt.plot(dtx, [math.sqrt(rv*252)*100 for rv in RV_new])\n",
    "    plt.xlabel('year')\n",
    "    plt.ylabel('realized variance')\n",
    "    plt.title('The realized variance for all days')"
   ]
  },
  {
   "cell_type": "markdown",
   "metadata": {},
   "source": [
    "## Excercise 2 - PG"
   ]
  },
  {
   "cell_type": "markdown",
   "metadata": {},
   "source": [
    "### A"
   ]
  },
  {
   "cell_type": "code",
   "execution_count": 186,
   "metadata": {},
   "outputs": [],
   "source": [
    "import os\n",
    "os.getcwd()\n",
    "os.chdir(\"/Users/zhouxijie/python/project_8/data/\")\n",
    "import csv\n",
    "with open(\"PG.csv\",\"r\") as  data:\n",
    "    content = data.read()\n",
    "data_lines = content.split(\"\\n\")\n",
    "dates, times, prices = [], [], []\n",
    "for line in data_lines:\n",
    "    if line:\n",
    "        date, time, price = line.split(',')\n",
    "        dates.append(int(date))\n",
    "        times.append(int(time))\n",
    "        prices.append(float(price))"
   ]
  },
  {
   "cell_type": "markdown",
   "metadata": {},
   "source": [
    "### B"
   ]
  },
  {
   "cell_type": "code",
   "execution_count": 187,
   "metadata": {},
   "outputs": [
    {
     "name": "stdout",
     "output_type": "stream",
     "text": [
      "78\n",
      "2769\n"
     ]
    }
   ],
   "source": [
    "N = dates.count(dates[0])\n",
    "T = len(dates)//dates.count(dates[0])\n",
    "print(N)\n",
    "print(T)"
   ]
  },
  {
   "cell_type": "markdown",
   "metadata": {},
   "source": [
    "There are 78 observations available each day and 2769 days available in the sample."
   ]
  },
  {
   "cell_type": "markdown",
   "metadata": {},
   "source": [
    "### C"
   ]
  },
  {
   "cell_type": "code",
   "execution_count": 188,
   "metadata": {},
   "outputs": [],
   "source": [
    "new_list = [prices[i:i+N] for i in range(0, len(prices), N)]"
   ]
  },
  {
   "cell_type": "markdown",
   "metadata": {},
   "source": [
    "### D"
   ]
  },
  {
   "cell_type": "code",
   "execution_count": 189,
   "metadata": {},
   "outputs": [],
   "source": [
    "log_prices = [math.log(price) for price in prices]\n",
    "log_list = [log_prices[i:i+N] for i in range(0, len(log_prices), N)]\n",
    "log_returns = []\n",
    "for i in range(len(log_list)):\n",
    "    log_returns.append([log_list[i][j+1] - log_list[i][j] for j in range(len(log_list[0])-1)])"
   ]
  },
  {
   "cell_type": "markdown",
   "metadata": {},
   "source": [
    "### E"
   ]
  },
  {
   "cell_type": "code",
   "execution_count": 190,
   "metadata": {},
   "outputs": [],
   "source": [
    "RV_new = [realized_variance(rlist) for rlist in log_returns]"
   ]
  },
  {
   "cell_type": "markdown",
   "metadata": {},
   "source": [
    "### F"
   ]
  },
  {
   "cell_type": "code",
   "execution_count": 191,
   "metadata": {},
   "outputs": [
    {
     "name": "stdout",
     "output_type": "stream",
     "text": [
      "15.624203800306113\n",
      "11.364598799912011\n"
     ]
    }
   ],
   "source": [
    "average_rv = stat.mean(RV_new)\n",
    "annulized_av_rv = 100*math.sqrt(252*average_rv)\n",
    "print(annulized_av_rv)\n",
    "median_rv = stat.median(RV_new)\n",
    "annulized_md_rv = 100*math.sqrt(252*median_rv)\n",
    "print(annulized_md_rv)"
   ]
  },
  {
   "cell_type": "markdown",
   "metadata": {},
   "source": [
    "The average of the realized variance is 15.62%; the median of the realized variance is 11.36%."
   ]
  },
  {
   "cell_type": "markdown",
   "metadata": {},
   "source": [
    "## Exercise 3 - PG"
   ]
  },
  {
   "cell_type": "markdown",
   "metadata": {},
   "source": [
    "### A"
   ]
  },
  {
   "cell_type": "code",
   "execution_count": 192,
   "metadata": {},
   "outputs": [
    {
     "data": {
      "text/plain": [
       "Text(0.5, 1.0, 'The realized variance for all days')"
      ]
     },
     "execution_count": 192,
     "metadata": {},
     "output_type": "execute_result"
    },
    {
     "data": {
      "image/png": "[encoded data removed]",
      "text/plain": [
       "<Figure size 432x288 with 1 Axes>"
      ]
     },
     "metadata": {
      "needs_background": "light"
     },
     "output_type": "display_data"
    }
   ],
   "source": [
    "import matplotlib.pyplot as plt\n",
    "plt.plot([math.sqrt(rv*252)*100 for rv in RV_new])\n",
    "plt.xlabel('day')\n",
    "plt.ylabel('realized variance')\n",
    "plt.title('The realized variance for all days')"
   ]
  },
  {
   "cell_type": "markdown",
   "metadata": {},
   "source": [
    "### B"
   ]
  },
  {
   "cell_type": "code",
   "execution_count": 193,
   "metadata": {},
   "outputs": [
    {
     "data": {
      "image/png": "[encoded data removed]",
      "text/plain": [
       "<Figure size 432x288 with 1 Axes>"
      ]
     },
     "metadata": {},
     "output_type": "display_data"
    }
   ],
   "source": [
    "with plt.style.context(\"ggplot\"):\n",
    "    plt.plot([math.sqrt(rv*252)*100 for rv in RV_new])\n",
    "    plt.xlabel('day')\n",
    "    plt.ylabel('realized variance')\n",
    "    plt.title('The realized variance for all days')"
   ]
  },
  {
   "cell_type": "markdown",
   "metadata": {},
   "source": [
    "### C"
   ]
  },
  {
   "cell_type": "code",
   "execution_count": 194,
   "metadata": {},
   "outputs": [
    {
     "name": "stdout",
     "output_type": "stream",
     "text": [
      "2017-11-20 00:00:00\n",
      "2017-11-20 09:27:00\n"
     ]
    }
   ],
   "source": [
    "from datetime import datetime\n",
    "print(datetime(2017, 11, 20))\n",
    "print(datetime.strptime('20171120 0927', '%Y%m%d %H%M'))"
   ]
  },
  {
   "cell_type": "markdown",
   "metadata": {},
   "source": [
    "When using the method strptime, the format for %H is from 01 to 12, so we need to type '09' other than '9' for python to recognize this format. %Y means year, %m means month, %d means day, %M means minute."
   ]
  },
  {
   "cell_type": "markdown",
   "metadata": {},
   "source": [
    "### D"
   ]
  },
  {
   "cell_type": "code",
   "execution_count": 195,
   "metadata": {},
   "outputs": [
    {
     "name": "stdout",
     "output_type": "stream",
     "text": [
      "['20070103 0935']\n"
     ]
    }
   ],
   "source": [
    "zipped = list(zip(dates, times))\n",
    "dt = []\n",
    "for time in zipped:\n",
    "    if time[1]//1000 < 1:\n",
    "        dt.append([str(time[0]) + \" \" + '0' + str(time[1])])\n",
    "    else:\n",
    "        dt.append([str(time[0]) + ' ' + str(time[1])])\n",
    "print(dt[0])"
   ]
  },
  {
   "cell_type": "markdown",
   "metadata": {},
   "source": [
    "### E"
   ]
  },
  {
   "cell_type": "code",
   "execution_count": 196,
   "metadata": {},
   "outputs": [],
   "source": [
    "format_dt = [datetime.strptime(str(dt[0]), '%Y%m%d %H%M') for dt in dt]\n",
    "dts = []\n",
    "for t in range(0,len(dt)):\n",
    "    subdt = []\n",
    "    for i in range(0,len(dt[t])):\n",
    "        time = datetime.strptime(dt[t][i],'%Y%m%d %H%M')\n",
    "        subdt.append(time)\n",
    "    dts.append(subdt)"
   ]
  },
  {
   "cell_type": "markdown",
   "metadata": {},
   "source": [
    "### F"
   ]
  },
  {
   "cell_type": "code",
   "execution_count": 197,
   "metadata": {},
   "outputs": [
    {
     "data": {
      "image/png": "[encoded data removed]",
      "text/plain": [
       "<Figure size 432x288 with 1 Axes>"
      ]
     },
     "metadata": {},
     "output_type": "display_data"
    }
   ],
   "source": [
    "with plt.style.context(\"ggplot\"):\n",
    "    dtx = [datetime.strptime(str(dates[i]), '%Y%m%d') for i in range(0, len(dates), N)]\n",
    "    plt.plot(dtx, [math.sqrt(rv*252)*100 for rv in RV_new])\n",
    "    plt.xlabel('year')\n",
    "    plt.ylabel('realized variance')\n",
    "    plt.title('The realized variance for all days')"
   ]
  },
  {
   "cell_type": "markdown",
   "metadata": {},
   "source": [
    "### G"
   ]
  },
  {
   "cell_type": "code",
   "execution_count": 198,
   "metadata": {},
   "outputs": [
    {
     "data": {
      "image/png": "[encoded data removed]",
      "text/plain": [
       "<Figure size 432x288 with 1 Axes>"
      ]
     },
     "metadata": {},
     "output_type": "display_data"
    }
   ],
   "source": [
    "with plt.style.context(\"ggplot\"):\n",
    "    dtx = [datetime.strptime(str(dates[i]), '%Y%m%d') for i in range(0, len(dates), N)]\n",
    "    plt.plot(dtx, [math.sqrt(rv*252)*100 for rv in RV_new])\n",
    "    plt.xlabel('year')\n",
    "    plt.ylabel('realized variance')\n",
    "    plt.title('The realized variance for all days')"
   ]
  }
 ],
 "metadata": {
  "kernelspec": {
   "display_name": "Python 3",
   "language": "python",
   "name": "python3"
  },
  "language_info": {
   "codemirror_mode": {
    "name": "ipython",
    "version": 3
   },
   "file_extension": ".py",
   "mimetype": "text/x-python",
   "name": "python",
   "nbconvert_exporter": "python",
   "pygments_lexer": "ipython3",
   "version": "3.7.4"
  }
 },
 "nbformat": 4,
 "nbformat_minor": 2
}
